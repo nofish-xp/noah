{
 "cells": [
  {
   "cell_type": "markdown",
   "metadata": {},
   "source": [
    "# <font color=blue>编程任务5:</font>\n",
    "\n",
    " \n",
    "\n",
    "1，        在1到100的数字中，打印所有既能被3整除，也能被5整除的数\n",
    "\n",
    "2，        在1到100的数字中，打印所有能被3整除或者能被5整除的数\n",
    "\n",
    "3，        给定一个a=[1,2,3,None,4]，打印所有非None值\n",
    "\n",
    "4，        给定一个a=[1,2,3,None,4]，打印所有大于2的值\n",
    "\n",
    "5，        判断两个整数是否相等\n",
    "\n",
    "6，        判断两个字符串是否相等\n",
    "\n",
    "7，        判断两个List是否相等\n",
    "\n"
   ]
  },
  {
   "cell_type": "code",
   "execution_count": 58,
   "metadata": {
    "collapsed": false
   },
   "outputs": [
    {
     "name": "stdout",
     "output_type": "stream",
     "text": [
      "[15, 30, 45, 60, 75, 90]\n"
     ]
    }
   ],
   "source": [
    "#1， 在1到100的数字中，打印所有既能被3整除，也能被5整除的数        \n",
    "list1 = [i for i in range(1, 100 + 1)  if (i % 3 == 0) and (i % 5 == 0)]\n",
    "print(list1)"
   ]
  },
  {
   "cell_type": "code",
   "execution_count": 59,
   "metadata": {
    "collapsed": false
   },
   "outputs": [
    {
     "name": "stdout",
     "output_type": "stream",
     "text": [
      "[3, 5, 6, 9, 10, 12, 15, 18, 20, 21, 24, 25, 27, 30, 33, 35, 36, 39, 40, 42, 45, 48, 50, 51, 54, 55, 57, 60, 63, 65, 66, 69, 70, 72, 75, 78, 80, 81, 84, 85, 87, 90, 93, 95, 96, 99, 100]\n"
     ]
    }
   ],
   "source": [
    "#2， 在1到100的数字中，打印所有能被3整除或者能被5整除的数\n",
    "list2 = [i for i in range(1, 100 + 1)  if (i % 3 == 0) or (i % 5 == 0)]\n",
    "print(list2)"
   ]
  },
  {
   "cell_type": "code",
   "execution_count": 60,
   "metadata": {
    "collapsed": false
   },
   "outputs": [
    {
     "name": "stdout",
     "output_type": "stream",
     "text": [
      "[1, 2, 3, 4]\n"
     ]
    }
   ],
   "source": [
    "#3， 给定一个a=[1,2,3,None,4]，打印所有非None值\n",
    "a = [1,2,3,None,4]\n",
    "a1 = [w for w in a if w is not None ]\n",
    "print(a1)"
   ]
  },
  {
   "cell_type": "code",
   "execution_count": 61,
   "metadata": {
    "collapsed": false
   },
   "outputs": [
    {
     "name": "stdout",
     "output_type": "stream",
     "text": [
      "[3, 4]\n"
     ]
    }
   ],
   "source": [
    "#4， 给定一个a=[1,2,3,None,4]，打印所有大于2的值\n",
    "a2 = [w for w in a if w is not None  and w > 2]\n",
    "print(a2)"
   ]
  },
  {
   "cell_type": "code",
   "execution_count": 62,
   "metadata": {
    "collapsed": false
   },
   "outputs": [
    {
     "name": "stdout",
     "output_type": "stream",
     "text": [
      "True\n"
     ]
    }
   ],
   "source": [
    "#5， 判断两个整数是否相等\n",
    "i1 = 1\n",
    "i2 = 1\n",
    "print(i1 == i2)"
   ]
  },
  {
   "cell_type": "code",
   "execution_count": 63,
   "metadata": {
    "collapsed": false
   },
   "outputs": [
    {
     "name": "stdout",
     "output_type": "stream",
     "text": [
      "True\n"
     ]
    }
   ],
   "source": [
    "#6， 判断两个字符串是否相等\n",
    "s1 = \"abc\"\n",
    "s2 = \"abc\"\n",
    "print(s1 == s2)"
   ]
  },
  {
   "cell_type": "code",
   "execution_count": 64,
   "metadata": {
    "collapsed": false
   },
   "outputs": [
    {
     "name": "stdout",
     "output_type": "stream",
     "text": [
      "True\n"
     ]
    }
   ],
   "source": [
    "#7， 判断两个List是否相等\n",
    "list1 = [1, 2, 3]\n",
    "list2 = [1, 2, 3]\n",
    "print(list1 == list2)"
   ]
  },
  {
   "cell_type": "code",
   "execution_count": null,
   "metadata": {
    "collapsed": true
   },
   "outputs": [],
   "source": []
  }
 ],
 "metadata": {
  "kernelspec": {
   "display_name": "Python 3",
   "language": "python",
   "name": "python3"
  },
  "language_info": {
   "codemirror_mode": {
    "name": "ipython",
    "version": 3
   },
   "file_extension": ".py",
   "mimetype": "text/x-python",
   "name": "python",
   "nbconvert_exporter": "python",
   "pygments_lexer": "ipython3",
   "version": "3.6.0"
  }
 },
 "nbformat": 4,
 "nbformat_minor": 2
}
