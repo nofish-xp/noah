{
 "cells": [
  {
   "cell_type": "markdown",
   "metadata": {},
   "source": [
    "# <font color=\"blue\">编程任务7</font>\n",
    "\n",
    "本次任务中需要事先安装numpy\n",
    "\n",
    "1，        将[1,2,3]转化成numpy array\n",
    "\n",
    "2，        打印数组中元素的数据类型\n",
    "\n",
    "3，        打印numpy数组[[1,2,3],[4,5,6]]的shape\n",
    "\n",
    "4，        打印3中数组维数\n",
    "\n",
    "5，        将3中数组调整为1维数组\n",
    "\n",
    "6，        生成一个1到12的数字序列，将这个序列改成3*4的数组\n",
    "\n",
    "7，        生成一个3*5的数组全部初始化为0\n",
    "\n",
    "8，        生成一个3*5的数组全部初始化为1\n",
    "\n",
    "9，        生成一个跟3中相同维度的数组，全部初始化为0（zeros_like）\n",
    "\n",
    "10，      数组堆叠。给定数组a\n",
    "\n",
    "[[1,2],\n",
    "\n",
    "[3,4]]\n",
    "\n",
    "和数组b\n",
    "\n",
    "[[5,6],\n",
    "\n",
    "[7,8]]\n",
    "\n",
    "生成数组的形式为\n",
    "\n",
    "[[1,2,5,6],\n",
    "\n",
    "[3,4,7,8]]"
   ]
  },
  {
   "cell_type": "code",
   "execution_count": 4,
   "metadata": {
    "collapsed": false
   },
   "outputs": [],
   "source": [
    "import numpy as np\n",
    "\n",
    "# 1， 将[1,2,3]转化成numpy array\n",
    "a1 = np.array([1, 2, 3])"
   ]
  },
  {
   "cell_type": "code",
   "execution_count": 5,
   "metadata": {
    "collapsed": false
   },
   "outputs": [
    {
     "name": "stdout",
     "output_type": "stream",
     "text": [
      "int64\n"
     ]
    }
   ],
   "source": [
    "# 2， 打印数组中元素的数据类型\n",
    "print(a1.dtype)"
   ]
  },
  {
   "cell_type": "code",
   "execution_count": 7,
   "metadata": {
    "collapsed": false
   },
   "outputs": [
    {
     "name": "stdout",
     "output_type": "stream",
     "text": [
      "(2, 3)\n"
     ]
    }
   ],
   "source": [
    "# 3， 打印numpy数组[[1,2,3],[4,5,6]]的shape\n",
    "a3 = np.array([[1, 2, 3], [4, 5, 6]])\n",
    "print(a3.shape)"
   ]
  },
  {
   "cell_type": "code",
   "execution_count": 8,
   "metadata": {
    "collapsed": false
   },
   "outputs": [
    {
     "name": "stdout",
     "output_type": "stream",
     "text": [
      "2\n"
     ]
    }
   ],
   "source": [
    "#4,打印3中数组维数\n",
    "print(a3.ndim)"
   ]
  },
  {
   "cell_type": "code",
   "execution_count": 14,
   "metadata": {
    "collapsed": false
   },
   "outputs": [
    {
     "name": "stdout",
     "output_type": "stream",
     "text": [
      "[1 2 3 4 5 6]\n"
     ]
    }
   ],
   "source": [
    "#5， 将3中数组调整为1维数组\n",
    "a5 = np.ravel(a3)\n",
    "print(a5)"
   ]
  },
  {
   "cell_type": "code",
   "execution_count": 16,
   "metadata": {
    "collapsed": false
   },
   "outputs": [
    {
     "name": "stdout",
     "output_type": "stream",
     "text": [
      "[[ 1  2  3  4]\n",
      " [ 5  6  7  8]\n",
      " [ 9 10 11 12]]\n"
     ]
    }
   ],
   "source": [
    "#6， 生成一个1到12的数字序列，将这个序列改成3*4的数组\n",
    "a6 = np.array(range(1, 13)).reshape(3, 4)\n",
    "print(a6)"
   ]
  },
  {
   "cell_type": "code",
   "execution_count": 17,
   "metadata": {
    "collapsed": false
   },
   "outputs": [
    {
     "name": "stdout",
     "output_type": "stream",
     "text": [
      "[[ 0.  0.  0.  0.  0.]\n",
      " [ 0.  0.  0.  0.  0.]\n",
      " [ 0.  0.  0.  0.  0.]]\n"
     ]
    }
   ],
   "source": [
    "#7， 生成一个3*5的数组全部初始化为0\n",
    "a7 = np.zeros((3, 5))\n",
    "print(a7)"
   ]
  },
  {
   "cell_type": "code",
   "execution_count": 18,
   "metadata": {
    "collapsed": false
   },
   "outputs": [
    {
     "name": "stdout",
     "output_type": "stream",
     "text": [
      "[[ 1.  1.  1.  1.  1.]\n",
      " [ 1.  1.  1.  1.  1.]\n",
      " [ 1.  1.  1.  1.  1.]]\n"
     ]
    }
   ],
   "source": [
    "#8， 生成一个3*5的数组全部初始化为1\n",
    "a8 = np.ones((3, 5))\n",
    "print(a8)"
   ]
  },
  {
   "cell_type": "code",
   "execution_count": 19,
   "metadata": {
    "collapsed": false
   },
   "outputs": [
    {
     "name": "stdout",
     "output_type": "stream",
     "text": [
      "[[0 0 0]\n",
      " [0 0 0]]\n"
     ]
    }
   ],
   "source": [
    "#9， 生成一个跟3中相同维度的数组，全部初始化为0（zeros_like）\n",
    "a9 = np.zeros_like(a3)\n",
    "print(a9)"
   ]
  },
  {
   "cell_type": "code",
   "execution_count": 37,
   "metadata": {
    "collapsed": false
   },
   "outputs": [
    {
     "name": "stdout",
     "output_type": "stream",
     "text": [
      "[[1 2 5 6]\n",
      " [3 4 7 8]]\n"
     ]
    }
   ],
   "source": [
    "#10， 数组堆叠\n",
    "a = [[1,2],[3,4]]\n",
    "b = [[5,6],[7,8]]\n",
    "a10 = np.array([[x, y] for x, y in  zip(a, b)]).reshape(2, 4)\n",
    "print(a10)"
   ]
  },
  {
   "cell_type": "code",
   "execution_count": null,
   "metadata": {
    "collapsed": true
   },
   "outputs": [],
   "source": []
  }
 ],
 "metadata": {
  "kernelspec": {
   "display_name": "Python 3",
   "language": "python",
   "name": "python3"
  },
  "language_info": {
   "codemirror_mode": {
    "name": "ipython",
    "version": 3
   },
   "file_extension": ".py",
   "mimetype": "text/x-python",
   "name": "python",
   "nbconvert_exporter": "python",
   "pygments_lexer": "ipython3",
   "version": "3.6.0"
  }
 },
 "nbformat": 4,
 "nbformat_minor": 2
}
