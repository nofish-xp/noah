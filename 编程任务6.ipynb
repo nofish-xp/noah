{
 "cells": [
  {
   "cell_type": "markdown",
   "metadata": {},
   "source": [
    "# <font color=\"blue\">编程任务6</font>\n",
    "\n",
    "１、       定义一个基类，包含以下函数方法train，predict，forward，activate , backpropagation，accuracy，save\n",
    "\n",
    "在构造函数中打印\"super\"\n",
    "\n",
    "这里每个函数（除Predict外）的实现都为pass即可\n",
    "\n",
    " \n",
    "\n",
    "Train：参数为X，epsilon，epoch，没有返回值\n",
    "\n",
    "Predict：参数为X，返回值为y（直接返回y即可）\n",
    "\n",
    "Forward：参数为row\n",
    "\n",
    "Activate：参数为inputs\n",
    "\n",
    "Backpropagation：参数为expected\n",
    "\n",
    "Accuracy：无参数\n",
    "\n",
    "Save：参数为path\n",
    "\n",
    " \n",
    "\n",
    "２、定义一个类，继承1中定义的基类，\n",
    "\n",
    "实现所有函数，\n",
    "\n",
    "所有函数功能为打印函数名和参数。\n",
    "\n",
    "4，在2中定义的类中定义属性变量network，bias和weights\n",
    "\n",
    "5，在__init__中初始化属性变量network，bias和weights\n",
    "\n",
    "3，创建2中定义的类的一个实例，并调用其中一个方法(函数)"
   ]
  },
  {
   "cell_type": "code",
   "execution_count": 44,
   "metadata": {
    "collapsed": false
   },
   "outputs": [],
   "source": [
    "'''\n",
    "１、 定义一个基类\n",
    "'''\n",
    "class SuperNet: \n",
    "    '''构造函数'''\n",
    "    def __init__(self):\n",
    "        print(\"super\")    \n",
    "        \n",
    "    '''Train：参数为X，epsilon，epoch，没有返回值'''\n",
    "    def Train(self, X, epsilon, epoch):\n",
    "        print(\"super\")    \n",
    "        \n",
    "    '''Predict：参数为X，返回值为y（直接返回y即可）'''\n",
    "    def Predict(self, X, y):\n",
    "        return y\n",
    "    \n",
    "    '''Forward：参数为row'''\n",
    "    def Forward(self, row):\n",
    "        pass\n",
    "    \n",
    "    '''Activate：参数为inputs'''\n",
    "    def Activate(self, inputs):\n",
    "        pass\n",
    "    \n",
    "    '''Backpropagation：参数为expected'''\n",
    "    def Backpropagation(self, expected):\n",
    "        pass\n",
    "    \n",
    "    '''Accuracy：无参数'''\n",
    "    def Accuracy(self):\n",
    "        pass\n",
    "    \n",
    "    '''Save：参数为path'''\n",
    "    def Save(self, path):\n",
    "        pass"
   ]
  },
  {
   "cell_type": "code",
   "execution_count": 45,
   "metadata": {
    "collapsed": false
   },
   "outputs": [],
   "source": [
    "'''\n",
    "２、定义一个类，继承1中定义的基类\n",
    "'''\n",
    "class NewNet(SuperNet):\n",
    "    #属性\n",
    "    network = None\n",
    "    bias = None\n",
    "    weights = None\n",
    "    \n",
    "    '''构造函数'''\n",
    "    def __init__(self):\n",
    "        self.network = 0\n",
    "        self.bias = 0\n",
    "        self.weights = 0\n",
    "        print(\"NewNet\")    \n",
    "        \n",
    "    '''Train：参数为X，epsilon，epoch，没有返回值'''\n",
    "    def Train(self, X, epsilon, epoch):\n",
    "        print(\"Train\")\n",
    "        print(\"X:\" + str(X))\n",
    "        print(\"epsilon:\" + str(epsilon))\n",
    "        print(\"epoch:\" + str(epoch))\n",
    "        \n",
    "    '''Predict：参数为X，返回值为y（直接返回y即可）'''\n",
    "    def Predict(self, X, y):\n",
    "        print(\"Predict\")\n",
    "        print(\"X:\" + str(X))\n",
    "        print(\"Y: \"+ str(y))\n",
    "              \n",
    "        return y\n",
    "    \n",
    "    '''Forward：参数为row'''\n",
    "    def Forward(self, row):\n",
    "        print(\"Forward\")\n",
    "        print(\"row:\" + str(row))\n",
    "    \n",
    "    '''Activate：参数为inputs'''\n",
    "    def Activate(inputs):\n",
    "        print(\"Activate\")\n",
    "        print(\"row:\" + str(inputs))\n",
    "    \n",
    "    '''Backpropagation：参数为expected'''\n",
    "    def Backpropagation(self, expected):\n",
    "        print(\"Backpropagation\")\n",
    "        print(\"expected:\" + str(expected))\n",
    "    \n",
    "    '''Accuracy：无参数'''\n",
    "    def Accuracy(self):\n",
    "        print(\"Accuracy\")\n",
    "    \n",
    "    '''Save：参数为path'''\n",
    "    def Save(self, path):\n",
    "        print(\"Save\")\n",
    "        print(\"path:\" + str(path))"
   ]
  },
  {
   "cell_type": "code",
   "execution_count": 46,
   "metadata": {
    "collapsed": false
   },
   "outputs": [
    {
     "name": "stdout",
     "output_type": "stream",
     "text": [
      "NewNet\n",
      "Train\n",
      "X:1\n",
      "epsilon:2\n",
      "epoch:3\n"
     ]
    }
   ],
   "source": [
    "test = NewNet()\n",
    "test.Train(1, \"2\",\"3\")"
   ]
  },
  {
   "cell_type": "code",
   "execution_count": 48,
   "metadata": {
    "collapsed": false
   },
   "outputs": [
    {
     "name": "stdout",
     "output_type": "stream",
     "text": [
      "3\n"
     ]
    }
   ],
   "source": [
    "test.bias = 3\n",
    "print(test.bias)"
   ]
  },
  {
   "cell_type": "code",
   "execution_count": null,
   "metadata": {
    "collapsed": true
   },
   "outputs": [],
   "source": []
  }
 ],
 "metadata": {
  "kernelspec": {
   "display_name": "Python 3",
   "language": "python",
   "name": "python3"
  },
  "language_info": {
   "codemirror_mode": {
    "name": "ipython",
    "version": 3
   },
   "file_extension": ".py",
   "mimetype": "text/x-python",
   "name": "python",
   "nbconvert_exporter": "python",
   "pygments_lexer": "ipython3",
   "version": "3.6.0"
  }
 },
 "nbformat": 4,
 "nbformat_minor": 2
}
