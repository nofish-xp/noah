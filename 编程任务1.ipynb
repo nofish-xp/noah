{
 "cells": [
  {
   "cell_type": "markdown",
   "metadata": {},
   "source": [
    "# <font color=blue>Python编程任务1</font>\n",
    "\n",
    " \n",
    "\n",
    "1，定义一个list\n",
    "\n",
    "2，在定义的list中增加n个整数（n为大于5的整数，无重复）,n为给定的参数。在list中增加从1到n的整数。\n",
    "\n",
    "3，打印第3个和第5个元素的值\n",
    "\n",
    "4，在第3个和第4个元素中间插入一个整数\n",
    "\n",
    "4，删除最后一个元素\n",
    "\n",
    "5，打印list长度\n",
    "\n",
    "6，求list中所有元素的平均值\n",
    "\n",
    "7，找到list中最大元素\n",
    "\n",
    "8，对list排序，输出排序结果"
   ]
  },
  {
   "cell_type": "code",
   "execution_count": 54,
   "metadata": {
    "collapsed": true
   },
   "outputs": [],
   "source": [
    "#1，定义一个list\n",
    "list1 = []"
   ]
  },
  {
   "cell_type": "code",
   "execution_count": 55,
   "metadata": {
    "collapsed": false
   },
   "outputs": [],
   "source": [
    "#2，在定义的list中增加n个整数（n为大于5的整数，无重复）,n为给定的参数。在list中增加从1到n的整数。\n",
    "n = 10\n",
    "for i in range(1, n + 1):\n",
    "    list1.append(i)"
   ]
  },
  {
   "cell_type": "code",
   "execution_count": 56,
   "metadata": {
    "collapsed": false
   },
   "outputs": [
    {
     "name": "stdout",
     "output_type": "stream",
     "text": [
      "3\n",
      "5\n"
     ]
    }
   ],
   "source": [
    "#3，打印第3个和第5个元素的值\n",
    "print(list1[2])\n",
    "print(list1[4])"
   ]
  },
  {
   "cell_type": "code",
   "execution_count": 57,
   "metadata": {
    "collapsed": false
   },
   "outputs": [
    {
     "name": "stdout",
     "output_type": "stream",
     "text": [
      "[1, 2, 3, 11, 4, 5, 6, 7, 8, 9, 10]\n"
     ]
    }
   ],
   "source": [
    "#4，在第3个和第4个元素中间插入一个整数\n",
    "m = 11\n",
    "list1.insert(3, m)\n",
    "print(list1)"
   ]
  },
  {
   "cell_type": "code",
   "execution_count": 58,
   "metadata": {
    "collapsed": false
   },
   "outputs": [
    {
     "name": "stdout",
     "output_type": "stream",
     "text": [
      "[1, 2, 3, 11, 4, 5, 6, 7, 8, 9]\n"
     ]
    }
   ],
   "source": [
    "#4，删除最后一个元素\n",
    "list1.pop(-1)\n",
    "print(list1)"
   ]
  },
  {
   "cell_type": "code",
   "execution_count": 59,
   "metadata": {
    "collapsed": false
   },
   "outputs": [
    {
     "name": "stdout",
     "output_type": "stream",
     "text": [
      "10\n"
     ]
    }
   ],
   "source": [
    "#5，打印list长度\n",
    "length = len(list1)\n",
    "print(length)"
   ]
  },
  {
   "cell_type": "code",
   "execution_count": 60,
   "metadata": {
    "collapsed": false
   },
   "outputs": [
    {
     "name": "stdout",
     "output_type": "stream",
     "text": [
      "5.6\n"
     ]
    }
   ],
   "source": [
    "#6，求list中所有元素的平均值\n",
    "average = sum(list1) / length\n",
    "print(average)"
   ]
  },
  {
   "cell_type": "code",
   "execution_count": 61,
   "metadata": {
    "collapsed": false
   },
   "outputs": [
    {
     "name": "stdout",
     "output_type": "stream",
     "text": [
      "11\n",
      "3\n"
     ]
    }
   ],
   "source": [
    "#7，找到list中最大元素\n",
    "maxValue = max(list1)\n",
    "print(maxValue)\n",
    "maxIndex = list1.index(maxValue)\n",
    "print(maxIndex)"
   ]
  },
  {
   "cell_type": "code",
   "execution_count": 62,
   "metadata": {
    "collapsed": false
   },
   "outputs": [
    {
     "name": "stdout",
     "output_type": "stream",
     "text": [
      "[1, 2, 3, 4, 5, 6, 7, 8, 9, 11]\n",
      "[11, 9, 8, 7, 6, 5, 4, 3, 2, 1]\n"
     ]
    }
   ],
   "source": [
    "#8，对list排序，输出排序结果\n",
    "list1.sort()\n",
    "print(list1)\n",
    "list1.reverse()\n",
    "print(list1)"
   ]
  },
  {
   "cell_type": "code",
   "execution_count": null,
   "metadata": {
    "collapsed": true
   },
   "outputs": [],
   "source": []
  }
 ],
 "metadata": {
  "kernelspec": {
   "display_name": "Python 3",
   "language": "python",
   "name": "python3"
  },
  "language_info": {
   "codemirror_mode": {
    "name": "ipython",
    "version": 3
   },
   "file_extension": ".py",
   "mimetype": "text/x-python",
   "name": "python",
   "nbconvert_exporter": "python",
   "pygments_lexer": "ipython3",
   "version": "3.6.0"
  }
 },
 "nbformat": 4,
 "nbformat_minor": 2
}
