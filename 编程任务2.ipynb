{
 "cells": [
  {
   "cell_type": "markdown",
   "metadata": {},
   "source": [
    "# <font color=blue>编程任务2</font>\n",
    "\n",
    " \n",
    "\n",
    "1，        创建一个空字典\n",
    "\n",
    "2，        在字典中增加n个项目，key为小写英文字母，value为字母表中key的序号数字\n",
    "\n",
    "从1开始，也就是a的序号是1，z的序号是26\n",
    "\n",
    "3，        打印字典长度\n",
    "\n",
    "4，        删除字母h\n",
    "\n",
    "5，        将字母i的序号改为0\n",
    "\n",
    "6，        打印所有序号大于5的key和value\n",
    "\n",
    "7，        确认字典中字母h是否存在\n",
    "\n",
    "8，        确认字典中是否存在序号9\n",
    "\n",
    "9，        打印字典key的列表\n",
    "\n",
    "10，      打印字典value的列表\n",
    "\n",
    "11，      清空字典"
   ]
  },
  {
   "cell_type": "code",
   "execution_count": 6,
   "metadata": {
    "collapsed": true
   },
   "outputs": [],
   "source": [
    "#1， 创建一个空字典\n",
    "dict1 = {}"
   ]
  },
  {
   "cell_type": "code",
   "execution_count": 7,
   "metadata": {
    "collapsed": false
   },
   "outputs": [
    {
     "name": "stdout",
     "output_type": "stream",
     "text": [
      "c 3\n",
      "j 10\n",
      "b 2\n",
      "g 7\n",
      "i 9\n",
      "f 6\n",
      "a 1\n",
      "e 5\n",
      "h 8\n",
      "d 4\n"
     ]
    }
   ],
   "source": [
    "#2， 在字典中增加n个项目，key为小写英文字母，value为字母表中key的序号数字从1开始，也就是a的序号是1，z的序号是26\n",
    "n = 10\n",
    "for val1 in range(1, 1 + n) :\n",
    "   dict1[chr(val1 + 96)] = val1\n",
    "for k, v in dict1.items():\n",
    "    print(k, v)"
   ]
  },
  {
   "cell_type": "code",
   "execution_count": 1,
   "metadata": {
    "collapsed": false
   },
   "outputs": [
    {
     "name": "stdout",
     "output_type": "stream",
     "text": [
      "{'c': 3, 'b': 2, 'h': 8, 'k': 11, 'y': 25, 'w': 23, 'i': 9, 'o': 15, 's': 19, 'r': 18, 'x': 24, 'p': 16, 'a': 1, 'j': 10, 'q': 17, 'e': 5, 'v': 22, 'n': 14, 'l': 12, 'm': 13, 'f': 6, 'z': 26, 't': 20, 'g': 7, 'u': 21, 'd': 4}\n"
     ]
    }
   ],
   "source": [
    "# 其他实现方法\n",
    "#     在字典中增加n个项目，key为小写英文字母，value为字母表中key的序号数字\n",
    "\n",
    "# 从1开始，也就是a的序号是1，z的序号是26\n",
    "d={chr(i):i-96 for i in range(97,123)}\n",
    "print(d)"
   ]
  },
  {
   "cell_type": "code",
   "execution_count": 8,
   "metadata": {
    "collapsed": false
   },
   "outputs": [
    {
     "name": "stdout",
     "output_type": "stream",
     "text": [
      "10\n"
     ]
    }
   ],
   "source": [
    "#3， 打印字典长度\n",
    "print(len(dict1))"
   ]
  },
  {
   "cell_type": "code",
   "execution_count": 9,
   "metadata": {
    "collapsed": false
   },
   "outputs": [
    {
     "name": "stdout",
     "output_type": "stream",
     "text": [
      "c 3\n",
      "j 10\n",
      "b 2\n",
      "g 7\n",
      "i 9\n",
      "f 6\n",
      "a 1\n",
      "e 5\n",
      "d 4\n"
     ]
    }
   ],
   "source": [
    "# 4， 删除字母h\n",
    "del dict1['h']\n",
    "for k, v in dict1.items():\n",
    "    print(k, v)"
   ]
  },
  {
   "cell_type": "code",
   "execution_count": 10,
   "metadata": {
    "collapsed": false
   },
   "outputs": [
    {
     "name": "stdout",
     "output_type": "stream",
     "text": [
      "c 3\n",
      "j 10\n",
      "b 2\n",
      "g 7\n",
      "i 0\n",
      "f 6\n",
      "a 1\n",
      "e 5\n",
      "d 4\n"
     ]
    }
   ],
   "source": [
    "#5， 将字母i的序号改为0\n",
    "dict1['i'] = 0\n",
    "for k, v in dict1.items():\n",
    "    print(k, v)"
   ]
  },
  {
   "cell_type": "code",
   "execution_count": 11,
   "metadata": {
    "collapsed": false
   },
   "outputs": [
    {
     "name": "stdout",
     "output_type": "stream",
     "text": [
      "j 10\n",
      "g 7\n",
      "f 6\n"
     ]
    }
   ],
   "source": [
    "#6， 打印所有序号大于5的key和value\n",
    "for k, v in dict1.items():\n",
    "    if (v > 5):\n",
    "        print(k, v)"
   ]
  },
  {
   "cell_type": "code",
   "execution_count": 2,
   "metadata": {
    "collapsed": false
   },
   "outputs": [
    {
     "name": "stdout",
     "output_type": "stream",
     "text": [
      "{'j': 10, 'w': 23, 't': 20, 'f': 6, 'q': 17, 'g': 7, 'v': 22, 's': 19, 'n': 14, 'k': 11, 'm': 13, 'y': 25, 'l': 12, 'i': 9, 'z': 26, 'o': 15, 'h': 8, 'r': 18, 'u': 21, 'x': 24, 'p': 16}\n"
     ]
    }
   ],
   "source": [
    "#其他实现方式\n",
    "#python大数据编程要尽量避免for循环\n",
    "mydict1 = {key: value for key, value in d.items() if value > 5}\n",
    "print(mydict1)"
   ]
  },
  {
   "cell_type": "code",
   "execution_count": 12,
   "metadata": {
    "collapsed": false
   },
   "outputs": [
    {
     "name": "stdout",
     "output_type": "stream",
     "text": [
      "key:h is not exist\n"
     ]
    }
   ],
   "source": [
    "#7， 确认字典中字母h是否存在\n",
    "if 'h' in dict1:\n",
    "    print(\"key:h is exist\")\n",
    "else:\n",
    "    print(\"key:h is not exist\")"
   ]
  },
  {
   "cell_type": "code",
   "execution_count": null,
   "metadata": {
    "collapsed": true
   },
   "outputs": [],
   "source": [
    "#其他实现方式\n",
    "print('h' in d.keys())"
   ]
  },
  {
   "cell_type": "code",
   "execution_count": 3,
   "metadata": {
    "collapsed": false
   },
   "outputs": [
    {
     "name": "stdout",
     "output_type": "stream",
     "text": [
      "8\n"
     ]
    }
   ],
   "source": [
    "#其他实现方式\n",
    "print(d.get('h', None))"
   ]
  },
  {
   "cell_type": "code",
   "execution_count": 13,
   "metadata": {
    "collapsed": false
   },
   "outputs": [
    {
     "name": "stdout",
     "output_type": "stream",
     "text": [
      "value:9 is not exist\n"
     ]
    }
   ],
   "source": [
    "#8， 确认字典中是否存在序号9\n",
    "if (9 in dict1.values()):\n",
    "    print(\"value:9 is exist\")\n",
    "else:\n",
    "    print(\"value:9 is not exist\")"
   ]
  },
  {
   "cell_type": "code",
   "execution_count": 15,
   "metadata": {
    "collapsed": false
   },
   "outputs": [
    {
     "name": "stdout",
     "output_type": "stream",
     "text": [
      "['c', 'j', 'b', 'g', 'i', 'f', 'a', 'e', 'd']\n"
     ]
    }
   ],
   "source": [
    "#9， 打印字典key的列表\n",
    "print(list(dict1.keys()))"
   ]
  },
  {
   "cell_type": "code",
   "execution_count": 17,
   "metadata": {
    "collapsed": false
   },
   "outputs": [
    {
     "name": "stdout",
     "output_type": "stream",
     "text": [
      "dict_keys(['c', 'j', 'b', 'g', 'i', 'f', 'a', 'e', 'd'])\n"
     ]
    }
   ],
   "source": [
    "#这里不需要list吧\n",
    "print(dict1.keys())"
   ]
  },
  {
   "cell_type": "code",
   "execution_count": 71,
   "metadata": {
    "collapsed": false
   },
   "outputs": [
    {
     "name": "stdout",
     "output_type": "stream",
     "text": [
      "[1, 2, 3, 4, 5, 6, 7, 8, 0, 10]\n"
     ]
    }
   ],
   "source": [
    "#10， 打印字典value的列表\n",
    "print(list(dict1.values()))"
   ]
  },
  {
   "cell_type": "code",
   "execution_count": 74,
   "metadata": {
    "collapsed": false
   },
   "outputs": [
    {
     "name": "stdout",
     "output_type": "stream",
     "text": [
      "{}\n"
     ]
    }
   ],
   "source": [
    "#11， 清空字典\n",
    "dict1.clear()\n",
    "print(dict1)"
   ]
  },
  {
   "cell_type": "code",
   "execution_count": null,
   "metadata": {
    "collapsed": true
   },
   "outputs": [],
   "source": []
  }
 ],
 "metadata": {
  "kernelspec": {
   "display_name": "Python 3",
   "language": "python",
   "name": "python3"
  },
  "language_info": {
   "codemirror_mode": {
    "name": "ipython",
    "version": 3
   },
   "file_extension": ".py",
   "mimetype": "text/x-python",
   "name": "python",
   "nbconvert_exporter": "python",
   "pygments_lexer": "ipython3",
   "version": "3.6.0"
  }
 },
 "nbformat": 4,
 "nbformat_minor": 2
}
